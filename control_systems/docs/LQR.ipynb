{
 "cells": [
  {
   "cell_type": "markdown",
   "metadata": {},
   "source": [
    "<h1> Linear Quadratic Regulators </h1>\n",
    "\n",
    "<h3> Introduction </h3>\n",
    "\n",
    "<p> The Linear Quadratic Regulator (LQR) is a control algorithm that is used to stabilize a linear system. It is a type of optimal control algorithm that minimizes a cost function that is defined as the sum of the state and control costs. The LQR algorithm is used to find the optimal control input that minimizes the cost function. It is used in many applications such as robotics, aerospace, and automotive systems. </p>"
   ]
  },
  {
   "cell_type": "markdown",
   "metadata": {},
   "source": [
    "![LQR Diagram](./Robotism.png)"
   ]
  },
  {
   "cell_type": "markdown",
   "metadata": {},
   "source": [
    "<h2> How to run </h2>\n",
    "\n",
    "```bash\n",
    "ros2 launch turtlebot3_gazebo empty_world.launch.py\n",
    "ros2 run control_systems ros_lqr\n",
    "```\n",
    "\n"
   ]
  }
 ],
 "metadata": {
  "language_info": {
   "name": "python"
  }
 },
 "nbformat": 4,
 "nbformat_minor": 2
}
